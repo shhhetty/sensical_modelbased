!pip install transformers[torch] datasets pandas openpyxl scikit-learn

import pandas as pd
from datasets import Dataset, DatasetDict
from sklearn.model_selection import train_test_split

try:
    df = pd.read_excel('/content/for_classifier (1).xlsx')
except FileNotFoundError:
    print("Error: Make sure 'my_keywords.xlsx' is uploaded to your Colab session.")
    # Add a dummy dataframe to allow the rest of the code to run for demonstration
    df = pd.DataFrame({
        'keyword': ['sample good keyword', 'sample bad keyword'],
        'score': [1, 0]
    })


# Prepare the DataFrame for Hugging Face
# The libraries expect specific column names: 'text' and 'label'
df = df.rename(columns={'keyword': 'text', 'score': 'label'})

# Ensure data types are correct
df['text'] = df['text'].astype(str)
df['label'] = df['label'].astype(int)

# Drop any rows where the text might be empty
df.dropna(subset=['text'], inplace=True)
df.reset_index(drop=True, inplace=True)

print(f"Successfully loaded and prepared {len(df)} keywords.")
print("\nData Preview:")
print(df.head())
print("\nLabel Distribution:")
print(df['label'].value_counts())

# Split the DataFrame into training and testing sets
train_df, test_df = train_test_split(df, test_size=0.1, random_state=42, stratify=df['label'])

print(f"Training set size: {len(train_df)}")
print(f"Testing set size: {len(test_df)}")

# Convert the pandas DataFrames into Hugging Face Dataset objects
train_dataset = Dataset.from_pandas(train_df)
test_dataset = Dataset.from_pandas(test_df)

# Combine them into a single DatasetDict object
dataset_dict = DatasetDict({
    'train': train_dataset,
    'test': test_dataset
})

print("\nDataset structure:")
print(dataset_dict)

from transformers import AutoTokenizer

# We'll use DistilBERT
model_name = "distilbert-base-uncased"
tokenizer = AutoTokenizer.from_pretrained(model_name)

# Create a function to tokenize the text
def tokenize_function(examples):
    # padding="max_length" ensures all inputs are the same size
    # truncation=True ensures inputs longer than the model can handle are cut down
    return tokenizer(examples["text"], padding="max_length", truncation=True)

# Apply the tokenization to the entire dataset
tokenized_datasets = dataset_dict.map(tokenize_function, batched=True)

print("\nTokenization complete. Example of a tokenized input:")
print(tokenized_datasets['train'][0])

from transformers import AutoModelForSequenceClassification, TrainingArguments, Trainer
import numpy as np
from datasets import load_metric
import math
import os


# This tells the environment to completely disable Weights & Biases
os.environ["WANDB_DISABLED"] = "true"

# Load the pre-trained model
model = AutoModelForSequenceClassification.from_pretrained(model_name, num_labels=2)

# Calculate the number of steps in one epoch
batch_size = 16
steps_per_epoch = math.ceil(len(train_df) / batch_size)

# --- TRAINING ARGUMENTS WITH THE FIX ---
training_args = TrainingArguments(
    output_dir="./results",

    # Core training parameters
    num_train_epochs=3,
    per_device_train_batch_size=batch_size,
    per_device_eval_batch_size=batch_size,

    # We will still evaluate and save
    save_steps=steps_per_epoch,
    eval_steps=steps_per_epoch,

    # Standard parameters
    warmup_steps=500,
    weight_decay=0.01,
    logging_steps=100,

    # This explicitly tells the trainer not to use any reporting tools like wandb
    report_to="none",
)

# Define the function to compute metrics
metric = load_metric("accuracy")

def compute_metrics(eval_pred):
    logits, labels = eval_pred
    predictions = np.argmax(logits, axis=-1)
    return metric.compute(predictions=predictions, references=labels)

# Create the Trainer object
trainer = Trainer(
    model=model,
    args=training_args,
    train_dataset=tokenized_datasets["train"],
    eval_dataset=tokenized_datasets["test"],
    compute_metrics=compute_metrics,
)

# --- Start Training! ---
trainer.train()

# --- Evaluate the final model ---
final_evaluation = trainer.evaluate()
print("\nFinal Evaluation of the model from the last epoch:")
print(final_evaluation)

from transformers import pipeline

# Save the fine-tuned model and tokenizer to a directory
model_save_path = "./sensical_keyword_classifier"
trainer.save_model(model_save_path)
tokenizer.save_pretrained(model_save_path)

print(f"\nModel saved to {model_save_path}")

# --- INFERENCE ---
# Load your custom model from the saved directory for easy use
classifier = pipeline("text-classification", model=model_save_path)

# Example keywords to test your new classifier
new_keywords_to_test = [
    "lenovo thinkpad laptop",
    "red blue for sale",
    "gaming laptop under 1000",
    "accessories for thinkpad x1",
    "shipping free code now",
    "best business computer",
    "computer for business best" # Grammatically awkward
]

results = classifier(new_keywords_to_test)

# Print the results in a clean format
for keyword, result in zip(new_keywords_to_test, results):
    # The model outputs 'LABEL_0' or 'LABEL_1'
    predicted_class = int(result['label'].split('_')[1])
    confidence = result['score']
    print(f"Keyword: '{keyword}' \t-> Predicted: {predicted_class} (Confidence: {confidence:.4f})")

    # --- Code to Analyze Mistakes ---

# Get predictions on the test set
predictions = trainer.predict(tokenized_datasets["test"])
predicted_labels = np.argmax(predictions.predictions, axis=-1)

# Add predictions to your original test DataFrame
test_df['predicted_label'] = predicted_labels
test_df['is_correct'] = (test_df['label'] == test_df['predicted_label'])

# Create a new DataFrame of only the mistakes
mistakes_df = test_df[test_df['is_correct'] == False]

print(f"The model made {len(mistakes_df)} mistakes on the test set.")
print("\n--- EXAMPLES OF MISTAKES ---")

# Print some examples for you to review
# FP = False Positive (Predicted 1, was 0)
# FN = False Negative (Predicted 0, was 1)
false_positives = mistakes_df[mistakes_df['label'] == 0]
false_negatives = mistakes_df[mistakes_df['label'] == 1]

print("\nKeywords it thought were good (but were bad):")
print(false_positives.head(10))

print("\nKeywords it thought were bad (but were good):")
print(false_negatives.head(10))
